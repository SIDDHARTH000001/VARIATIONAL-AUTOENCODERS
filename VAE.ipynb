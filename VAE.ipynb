{
 "cells": [
  {
   "cell_type": "code",
   "execution_count": 6,
   "metadata": {},
   "outputs": [],
   "source": [
    "from torchvision import datasets,transforms\n",
    "import torch\n",
    "import numpy as np"
   ]
  },
  {
   "cell_type": "code",
   "execution_count": 277,
   "metadata": {},
   "outputs": [],
   "source": [
    "\n",
    "transform = transforms.Compose([\n",
    "    transforms.ToTensor(),\n",
    "    transforms.Pad(2, fill=0),  # Padding with 2 pixels on each side with zero\n",
    "    transforms.RandomHorizontalFlip(),\n",
    "    transforms.RandomCrop(32, padding=4),\n",
    "    transforms.RandomAutocontrast(0.3),\n",
    "    transforms.Normalize(.5,.5),\n",
    "])\n",
    "\n",
    "\n",
    "train_data = datasets.FashionMNIST(\"./dataset\",train=True,download=True,transform=transform)\n",
    "test_data = datasets.FashionMNIST(\"./dataset\",train=False,download=True,transform=transform)\n",
    "\n",
    "\n",
    "train_loader = torch.utils.data.DataLoader(train_data, batch_size=32, shuffle=True)\n",
    "test_loader = torch.utils.data.DataLoader(test_data, batch_size=32, shuffle=False)\n"
   ]
  },
  {
   "cell_type": "code",
   "execution_count": 279,
   "metadata": {},
   "outputs": [],
   "source": [
    "import torch.nn as nn\n",
    "class Encoder(nn.Module):\n",
    "    def __init__(self,input_channels = 3,latent_space = 2) -> None:\n",
    "        super().__init__()\n",
    "        self.input_channels = input_channels\n",
    "        self.latent_space = latent_space\n",
    "     \n",
    "        self.conv1 = nn.Conv2d(self.input_channels,32,3,2,2)\n",
    "        self.batch_norm1 = nn.BatchNorm2d(32)\n",
    "\n",
    "        self.conv2 = nn.Conv2d(32,64,3,2,2)\n",
    "        self.batch_norm2 = nn.BatchNorm2d(64)\n",
    "\n",
    "        self.conv3 = nn.Conv2d(64,128,3,2,2)\n",
    "        self.batch_norm3 = nn.BatchNorm2d(128)\n",
    "\n",
    "        self.flatten = nn.Flatten(1,-1)\n",
    "\n",
    "        self.dense1 = nn.Linear(128*6*6,1024)\n",
    "        self.act1 = nn.ReLU()\n",
    "\n",
    "        self.dense2 = nn.Linear(1024,512)\n",
    "        self.act2 = nn.ReLU()\n",
    "\n",
    "        self.dense3 = nn.Linear(512,64)\n",
    "        self.act3 = nn.ReLU()\n",
    "\n",
    "        self.dense4_mu = nn.Linear(64, latent_space)\n",
    "        self.dense4_logvar = nn.Linear(64, latent_space)\n",
    "\n",
    "    def forward(self,x):\n",
    "        x = self.batch_norm1(self.conv1(x))\n",
    "        x = self.batch_norm2(self.conv2(x))\n",
    "        x = self.batch_norm3(self.conv3(x))\n",
    "    \n",
    "        x = self.flatten(x)\n",
    "        x = self.act1(self.dense1(x))\n",
    "        x = self.act2(self.dense2(x))\n",
    "        x = self.act3(self.dense3(x))\n",
    "       \n",
    "\n",
    "        return self.dense4_mu(x),self.dense4_logvar(x)\n",
    "\n",
    "\n",
    "class Decoder(nn.Module):\n",
    "    def __init__(self, latent_space,output_channel = 3) -> None:\n",
    "        super().__init__()\n",
    "        self.latent_space = latent_space\n",
    "        self.output_channel = output_channel\n",
    "\n",
    "        self.dense1 = nn.Linear(latent_space,64)\n",
    "        self.act1 = nn.ReLU()\n",
    "\n",
    "        self.dense2 = nn.Linear(64,512)\n",
    "        self.act2 = nn.ReLU()\n",
    "\n",
    "        self.dense3 = nn.Linear(512,1024)\n",
    "        self.act3 = nn.ReLU()\n",
    "\n",
    "        self.dense4 = nn.Linear(1024,128*6*6)\n",
    "        self.act4 = nn.ReLU()\n",
    "\n",
    "        self.unflat = nn.Unflatten(1, (128, 6, 6))\n",
    "\n",
    "        self.deconv1 = nn.ConvTranspose2d(128,64,3,2,2,1)\n",
    "        self.batch_norm1 = nn.BatchNorm2d(64)\n",
    "\n",
    "        self.deconv2 = nn.ConvTranspose2d(64,32,3,2,2)\n",
    "        self.batch_norm2 = nn.BatchNorm2d(32)\n",
    "\n",
    "        self.deconv3 = nn.ConvTranspose2d(32,output_channel,3,2,2,1)\n",
    "        self.batch_norm3 = nn.BatchNorm2d(output_channel)\n",
    "\n",
    "    def forward(self,x):\n",
    "        x = self.act1(self.dense1(x))\n",
    "        x = self.act2(self.dense2(x))\n",
    "        x = self.act3(self.dense3(x))\n",
    "        x = self.act4(self.dense4(x))\n",
    "        x = self.unflat(x)\n",
    "\n",
    "        x = self.batch_norm1(self.deconv1(x))\n",
    "        x = self.batch_norm2(self.deconv2(x))\n",
    "        x = self.batch_norm3(self.deconv3(x))\n",
    "        \n",
    "        return torch.nn.functional.sigmoid(x)\n",
    "\n",
    "\n"
   ]
  },
  {
   "cell_type": "code",
   "execution_count": 280,
   "metadata": {},
   "outputs": [],
   "source": [
    "encoder = Encoder(1,2)\n",
    "decoder = Decoder(2,1)"
   ]
  },
  {
   "cell_type": "code",
   "execution_count": 281,
   "metadata": {},
   "outputs": [
    {
     "data": {
      "text/plain": [
       "10745351"
      ]
     },
     "execution_count": 281,
     "metadata": {},
     "output_type": "execute_result"
    }
   ],
   "source": [
    "sum( p.numel() for p in encoder.parameters() if p.requires_grad)+ sum( p.numel() for p in decoder.parameters() if p.requires_grad)"
   ]
  },
  {
   "cell_type": "code",
   "execution_count": 282,
   "metadata": {},
   "outputs": [
    {
     "data": {
      "image/png": "[encoded data removed]",
      "text/plain": [
       "<Figure size 640x480 with 1 Axes>"
      ]
     },
     "metadata": {},
     "output_type": "display_data"
    }
   ],
   "source": [
    "import matplotlib.pyplot as plt\n",
    "for i,_ in train_loader:\n",
    "    plt.imshow(np.array(decoder(sum(encoder(i)))[31].permute(1,2,0).detach().numpy())) \n",
    "    break"
   ]
  },
  {
   "cell_type": "code",
   "execution_count": 313,
   "metadata": {},
   "outputs": [],
   "source": [
    "class VAE(nn.Module):\n",
    "    def __init__(self, input_channel,latent_space) -> None:\n",
    "        super().__init__()\n",
    "\n",
    "        self.inchannel = input_channel\n",
    "        self.latent_space = latent_space\n",
    "        self.encoder = Encoder(self.inchannel,self.latent_space)\n",
    "        self.decoder = Decoder(self.latent_space,self.inchannel)\n",
    "\n",
    "    \n",
    "    def reparameterize(self, mu, logvar):\n",
    "        std = torch.exp(0.5 * logvar)\n",
    "        eps = torch.randn_like(std)\n",
    "        return mu + eps * std\n",
    "\n",
    "    def forward(self,x):\n",
    "        _mean,logvar = self.encoder(x)\n",
    "        x = self.reparameterize(_mean,logvar)\n",
    "        recon_x = self.decoder(x)\n",
    "        return recon_x, _mean,logvar\n",
    "\n",
    "        "
   ]
  },
  {
   "cell_type": "code",
   "execution_count": 320,
   "metadata": {},
   "outputs": [],
   "source": [
    "model = VAE(1,2)\n",
    "optimizer = torch.optim.Adam(model.parameters(),lr=1e-3)"
   ]
  },
  {
   "cell_type": "code",
   "execution_count": 321,
   "metadata": {},
   "outputs": [],
   "source": [
    "def loss_function(pred_x, x, mu, logvar):\n",
    "    reconstruction_loss = torch.nn.functional.mse_loss(pred_x, x, reduction='sum')\n",
    "    KLD = -0.5 * torch.sum(1 + logvar - mu.pow(2) - logvar.exp())\n",
    "    return reconstruction_loss + KLD"
   ]
  },
  {
   "cell_type": "code",
   "execution_count": null,
   "metadata": {},
   "outputs": [],
   "source": [
    "for epoch in range(50):\n",
    "    model.train()\n",
    "    train_loss = 0\n",
    "    for i,_ in train_loader:\n",
    "        optimizer.zero_grad()\n",
    "        pred_x,_mean,logvar= model(i)\n",
    "        loss = loss_function(pred_x,i,_mean,logvar)\n",
    "        loss.backward()\n",
    "        train_loss += loss.item()\n",
    "        optimizer.step()"
   ]
  },
  {
   "cell_type": "code",
   "execution_count": 325,
   "metadata": {},
   "outputs": [
    {
     "name": "stdout",
     "output_type": "stream",
     "text": [
      "Epoch 1, Loss: 841.4664504557292\n",
      "Epoch 2, Loss: 786.6157173502604\n",
      "Epoch 3, Loss: 768.4570770507812\n",
      "Epoch 4, Loss: 759.5938965494792\n",
      "Epoch 5, Loss: 754.6656234700521\n",
      "Epoch 6, Loss: 750.7466010091146\n",
      "Epoch 7, Loss: 749.3256632486979\n",
      "Epoch 8, Loss: 748.0895660481771\n",
      "Epoch 9, Loss: 746.7398958658854\n",
      "Epoch 10, Loss: 746.7128765950521\n",
      "Epoch 11, Loss: 746.1347431640625\n",
      "Epoch 12, Loss: 746.5454399414062\n",
      "Epoch 13, Loss: 745.8610566731771\n",
      "Epoch 14, Loss: 745.367842578125\n",
      "Epoch 15, Loss: 744.5441084309896\n",
      "Epoch 16, Loss: 744.6513918945312\n",
      "Epoch 17, Loss: 744.1764458658854\n",
      "Epoch 18, Loss: 744.6710190755208\n",
      "Epoch 19, Loss: 745.1222047851562\n",
      "Epoch 20, Loss: 745.1832603190104\n",
      "Epoch 21, Loss: 746.2712639973959\n",
      "Epoch 22, Loss: 745.0394841796875\n",
      "Epoch 23, Loss: 744.0394060872396\n",
      "Epoch 24, Loss: 743.8903846679688\n",
      "Epoch 25, Loss: 744.1253652018229\n",
      "Epoch 26, Loss: 743.7350153645833\n",
      "Epoch 27, Loss: 743.5927234700521\n",
      "51880\r"
     ]
    }
   ],
   "source": [
    "num_epochs = 100\n",
    "i=0\n",
    "for epoch in range(num_epochs):\n",
    "    model.train()\n",
    "    train_loss = 0\n",
    "    for inputs, _ in train_loader:\n",
    "        optimizer.zero_grad()\n",
    "        recon_batch, mu, logvar = model(inputs)\n",
    "        loss = loss_function(recon_batch, inputs, mu, logvar)\n",
    "        loss.backward()\n",
    "        train_loss += loss.item()\n",
    "        optimizer.step()\n",
    "        i+=1\n",
    "        if i%20==0:\n",
    "            print(i,end='\\r')\n",
    "    \n",
    "    print(f'Epoch {epoch+1}, Loss: {train_loss / len(train_loader.dataset)}')\n",
    "\n"
   ]
  },
  {
   "cell_type": "code",
   "execution_count": null,
   "metadata": {},
   "outputs": [],
   "source": []
  },
  {
   "cell_type": "code",
   "execution_count": null,
   "metadata": {},
   "outputs": [],
   "source": []
  }
 ],
 "metadata": {
  "kernelspec": {
   "display_name": "DLENV",
   "language": "python",
   "name": "dlenv"
  },
  "language_info": {
   "codemirror_mode": {
    "name": "ipython",
    "version": 3
   },
   "file_extension": ".py",
   "mimetype": "text/x-python",
   "name": "python",
   "nbconvert_exporter": "python",
   "pygments_lexer": "ipython3",
   "version": "3.11.1"
  }
 },
 "nbformat": 4,
 "nbformat_minor": 2
}
